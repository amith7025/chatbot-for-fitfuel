{
  "nbformat": 4,
  "nbformat_minor": 0,
  "metadata": {
    "colab": {
      "provenance": [],
      "gpuType": "T4"
    },
    "kernelspec": {
      "name": "python3",
      "display_name": "Python 3"
    },
    "language_info": {
      "name": "python"
    },
    "accelerator": "GPU"
  },
  "cells": [
    {
      "cell_type": "code",
      "execution_count": 1,
      "metadata": {
        "colab": {
          "base_uri": "https://localhost:8080/"
        },
        "id": "b0RLGAj3DsWq",
        "outputId": "a54d5962-c7f8-42ef-c4d4-787e11a8bf6a"
      },
      "outputs": [
        {
          "output_type": "stream",
          "name": "stdout",
          "text": [
            "Mounted at drive\n"
          ]
        }
      ],
      "source": [
        "from google.colab import drive\n",
        "drive.mount('drive')"
      ]
    },
    {
      "cell_type": "markdown",
      "source": [
        "# **Importing the tools**"
      ],
      "metadata": {
        "id": "3RAQ0T1eIXux"
      }
    },
    {
      "cell_type": "code",
      "source": [
        "import re\n",
        "import numpy as np\n",
        "import torch\n",
        "from torch import nn\n",
        "from torch.utils.data import Dataset\n",
        "from torch.utils.data import DataLoader\n",
        "from transformer import Transformer"
      ],
      "metadata": {
        "id": "jwzifao5Gy6j"
      },
      "execution_count": 3,
      "outputs": []
    },
    {
      "cell_type": "markdown",
      "source": [
        "## Importing the **Data**"
      ],
      "metadata": {
        "id": "xyBu0caFIbPG"
      }
    },
    {
      "cell_type": "code",
      "source": [
        "with open('/content/drive/MyDrive/dataset_train.txt','r') as f:\n",
        "    data = f.read()\n",
        "print(data[:100])"
      ],
      "metadata": {
        "colab": {
          "base_uri": "https://localhost:8080/"
        },
        "id": "OjJCJjf9D0FZ",
        "outputId": "8e8af14f-84ed-46c5-b1cc-174f3f4bfe75"
      },
      "execution_count": 4,
      "outputs": [
        {
          "output_type": "stream",
          "name": "stdout",
          "text": [
            "\n",
            "Question: how do i stop smoking now\n",
            "Answer: stopping smoking is about will power and being steadfas\n"
          ]
        }
      ]
    },
    {
      "cell_type": "markdown",
      "source": [
        "# **Preprocess**"
      ],
      "metadata": {
        "id": "wKVp-pOEIgd2"
      }
    },
    {
      "cell_type": "code",
      "source": [
        "input,output = [],[]\n",
        "qa_pairs = re.split(r\"Question: |Answer: \", data)[1:]\n",
        "\n",
        "# Print the separated question-answer pairs\n",
        "for i in range(0, len(qa_pairs), 2):\n",
        "    question = qa_pairs[i].strip()\n",
        "    answer = qa_pairs[i + 1].strip()\n",
        "    if question in input:\n",
        "        continue\n",
        "    else:\n",
        "        input.append(''.join(question.split('.')[:1]))\n",
        "        output.append(''.join(answer.split('.')[:3]))\n",
        "\n",
        "print(input[:100])\n",
        "print(output[:100])"
      ],
      "metadata": {
        "colab": {
          "base_uri": "https://localhost:8080/"
        },
        "id": "-v8eYSWFEr3r",
        "outputId": "568c4a89-bef9-445c-9998-5c7f28d06c68"
      },
      "execution_count": 5,
      "outputs": [
        {
          "output_type": "stream",
          "name": "stdout",
          "text": [
            "['how do i stop smoking now', 'i had a tubaligation 4 years ago and also have a minor case of endometriosis i am only 27 and my period stopped completely 3 months ago no more spotting in between nothing i am not stressed no change in daily habits diet weight nothing all urine pregnancy tests have been negative what could be wrong with me?', 'could extra caffeine consumption be a cause of mild unilateral breast tenderness?', 'hello- i am a 24 year old female 5\"4 & 115 lb & was diagnosed with pcos at 19', 'i was wanting to know if you could tell me if its possible for a woman to go through all their pregnancy without knowing they are pregnant and have periods and ngative pregnancy tests? iwas watching the show called \"i didnt know i was pregnant\" and wanted to know how real and accurate this show is and how somthing like that could happen?', 'i have been taking methadose and oxycotin illeagely for over a year now', 'i need help i drink every night and think that it has something to do with my personal life and the way i deal with things', 'i have had a lot of trouble getting off of narcotics (percocet and morphine my knee surgeon would give me the percocet and my family dr would give me the morphine) but this time i have actually done it', 'hi', 'the stool color is black (not loose) - is the black color of stool due to any of the above medicines? being holiday can not consult doctor instantly', \"why is it that the medical profession is so behind the times when it comes to considering the feelings of husbands as it pertains to their wive's medical care\", 'is it best to start on sinemet or \"hold off\"', 'i may need diagnostic testing and this time i have a trail period before i can get my health insurance', 'its been since august 15 2012 and i have had issues', \"hello i've had an endoscopic sinus surgery some days ago\", 'abortion benefits', 'i had a surgical-abortion a year ago now am pregnant again but this time iam thinking of having a medical-abortion is my medical-abortion going to have any trouble because i had a surgical abortion a year ago?', 'how i loose my waight', \"i am very concerned about my girlfriend's weight\", 'is there a way to get monolids? (naturally)', 'hi there! i am a 20 year old girl with extremely large breasts', \"i'm factor v laiden and was wondering if it's safe for me to start taking borage oil? i've been researching online and have not been able to get any information on this topic\", 'how can i control the lipomo', \"how well homeopathic medicine such as rescue remedy or aconitum works for anxiety? any side effects? my therapist recommended to me but i'm still not sure\", 'i am a collegiate baseball pitcher and i would like to increase my velocity', \"i was diagnosed of pcos and last 2 week went for a my doctor's visit and she said my sugar level is a bit higher than normal but i forgot asking how many it was\", \"if you say rice is no good because it can cause high blood sugar then what can we consume for carbohydrates that's safe? is brown rice ok? how about sweet potato? what is safe?\", 'as i have put on 3st since taking pregabalin my doctor has presribed reductil and i have just started to take it today', 'can i drink diet pills and what pills do you recommend?', 'how to reduce the trigleceride and protien from urea', 'following my discution with afriend who is doctor out of california he told me i may suffer from b12 deficiency', 'i was wondering if teens could go on atkins diet', 'i just recently got a new tattoo on the back of my neck', 'i just got 2 piercings done like 5 days ago', 'vegetarian and hypoglycemia? i have a rare form of cancer and recently converted to a mostly raw vegan diet in the last 3-4 months', 'since cutting \\\\\"bad\\\\\" carbs and sugar from my diet - i have experienced nausea and very loose stools - especially in the morning', 'age: 20 gender: male height: 5\\\\\\'6\" weight: anorexic build of 55 kg', \"i don't eat seafood\", 'hello currently on a probiotic and looking into adding something for a dairy sensitivity', 'my 9 year old son has become distant distracted disobedient and agressive', \"can masturbating when i'm 14 stun my growth of my penis? expert info please <positive_smiley>\", 'i have a 2year old daughter who all of a sudden had problems with walking but before she was walking properly without any problems', \"what would cause a 15 year old girl to skip school excessively (started this year - sophomore in hs) not turn in any work and now start shoplifting? drugs don't seem to be involved nor alcohol\", 'i cant eat i cant sleep - im on a break (on his decision) from the love of my life - we live together & have been together just over a year', \"last few months our relationship does not going better my boyfriend's behave become very much rough he all time avoid me doesn't receive my call not replying my sms doesn't want to met me\", 'i had been with my husband for a total of almost 10 yrs but we were only married for almost 3 yrs', 'i got married about 2 months ago', 'i let my brother and his family live with me becaue i felt bad that he lost his house', 'had 5 major depression episodes better', \"so i just started dating one of my close guy friends 3 days ago and i know i'm only 14 and about to start high school on wednesday so i shouldn't be worrying about boys right now but two days before we started dating he kissed me and i felt bad for not wanting to date him but i kissed him so i didn't want to make it seem like i'm using him\", 'when i was young and going through puberty i sexually experimented with guys i gusse the earliest was when i tried to kiss a guy then other times \"firends rubbed thier penis between my legs thenseveral other times a friend preformed anal on me after that ive never done that crap ever again since ive had 2 serious relation ships with girls and iam in one right now iam terrified i might be gay i also have ocd tho dose this make me gay im very worried', 'i am in a masculine profession so feel like i would try to sort the problem out with the minimum of fuss possible', 'i have recently lost a loved one', \"hi i'm 24 last year myself and my ex split up we have a child together but wen we finished we stopped talking so my parents collected my child for me to see him then the start of this year we started seen each other again but last week she told me she is seen someone and is now telling me leave her alone i'm very down on myself and i'm feeling very depressed my buddies just keep saying get over it but icant since i love this girl we were engaged and were living wit each other but now i don't know wat to do\", 'i am over weight and have been since the birth of my first daughter', 'hello', 'hej', \"i went to hospital last night with really bad stomach cramps i hadn't had a period for at least 6 months and i didn't even think of bein pregnant i never told my mum and jus kept it to myslef\", 'can i become pregnant after having intercourse during periods?', 'i am currently 23 weeks pregnant since i become 3 month pregnant my work has made my life a misery basically keep swapping and changing my job after sorting it out then told me im expected to do the same work as everybody else as pregnancy is not a disability or a illness and at this stage of my pregnancy i should not be getting tired i am really depressed and stress over work getting frequant headaches just wondering if i go to doctors and go o n sick pay will i get full pay due to stress and depression due to work?', 'i am 35 weeks pregnant and seriously contimplating leaving my husband', 'my boyfriend decided to come over to visit me for 2 days because we live in two different states', \"i missed my period and now i'm cramping and having belly button pain\", 'hello i am newly mom and breastffeding my baby from last three months', 'what happens if a new mother takes mentone syrup?', 'hello doctor i wanted to know what to do my 2 year old child everytime he wakes up for short time he wants to be breastfeeded', 'i had sex with my boyfriend everyday for 5 days starting on the last day of my menstruation', 'i had a baby who is now 5 months old and i noticed my right nipple was bleeding and my breast is very sore', 'my 1 month old caught the common cold from his older sister', 'hello my 7 week old baby always brings up milk after every feed its not straight away but as soon as i lay her on her back (even if i have held her up for over an hour) its almost a clear colour and she doesnt vomit she kind of just pushes it out', 'my 9 month old daughter isnt crawling at all isnt walking wont pull herself up on anything and every time i put her on her tummy she rolls right over to her back and than cant move', \"hello i want to reassure myself about my baby girl's head size at 1st month it was 36 cm 2nd month- 38 cm 3d month -39 cm now at 4th month the head circumference is 41 cm is there anything disturbing because between 2nd an 3d month the growth is only one cm? thanks in advance!\", 'my 18 month old screams when having a bowel movement', 'my son is 2 has eczema mild at moment he suffers from diarrhea constantly but not ill', '\"my nephew about 3 years old has an enlarged left knee cap', 'hi i have had a cross bite on my rear tooth caused from a tooth extraction without subsequent restorative dentistry which has stopped my closing my mouth properly for 5 years and has caused me huge problems', 'how do i know if its my tjm ( diagonosed with this since july 2014)playing up or actual toothache? i am taking naproxen for my tjm lying down is impossible to sleep codine is being taken for pain i am in agony cold compress helps hot food tingles but cold dosnt when im upright the pain is managable then i have spasms of excrutiating pain in the left side of face jaw ear eye which then settles down and goes? how do i know if its toothache or my tjm i have appointments at dentist and docs but cant get in till early next week at the moment in the day the pain is a 2 on a scale of 1-5 with 5 being the worst pain imaginable when trying to sleep it is way of the scale for pain and i have to try to sleep sitting up!', 'for about two years now i have been having a problem with my ears', 'my wife has recurring styes (chalazia) that must be addressed before chemo / stem cell transplant for multiple myeloma', 'my 2 friends also underwent through lasik procedures but i am afraid about any side effects', \"woke up and couldn't see out right eye very well vision returned after 20 minutes and something to eat but now have a headache\", 'i have been in a 4months and 6 days treatment for ptb', 'i have miliary tb for last 4 months and on standard medication', \"hi my daughter's spleen has stopped working\", 'well i was power lifting and the bar came down wrong and my wrist popped', \"i pancreatitis with vomiting sometimes lost a lot of weight from 175 to just over 100 i've stopped eating red meats don't eat pork junk food and drink lots of gatorade for electrolytes how can i gain weight\", 'i have a large hard knot beneath the skin of my left cheek approx', 'hi doctor the nails on my right hand seem to be clubbing and are in the early stages as in they increased curvature/size and slight flotation', 'is it common to have spasms with a splenic cyst and be unable to keep food down?', 'this is about my 8 mth old son', 'i had melingtis when i was a baby and i was wondering if there are any effects that i could have 18yrs on? i also suffer with really bad back pain when it is the time of the month', 'i (girl) have begun dating a man who has oral herpes hsv1', 'i have a lesion on the side of my shaft', 'during a routine pap smear i requested hiv and std testing', 'i am a indian and 21 years old', 'i have been suffering from severe fatigue for most of my life and had my first hypoglycaemia episode when i was about 11 years old', 'one time episode of hypoglycemia? this was an extremely concerning experience: on a no-carb diet for 1', 'i have a hard bump on the up side of the left foot it use to hurt but not anymore it could be from trauma but i am not sure i am worried because i do not remember if i hit my foot or not when i rub my feet i feel like a little mountain really hard', '20 male very active fit', 'i started getting symptoms 6 years ago when i turned 41- migraines vision problems tremors anemia memory issues joint arthritis and spur growth']\n",
            "['stopping smoking is about will power and being steadfast you can stop safely by having bupropion or nicotine patch cover initially in consult with a doctor contact an addiction clinic near you', 'hello this sounds quite unfamiliar that due to no reason at this age you have no cycle for last three months pregnancy is surely a remote possibility as there was a tubal ligation the endometriosis is also unlikely could cause stoppage of cycle', 'extra caffeine can cause gastric discomfort the pain of which can be felt at one side of breast mostly left side but right also is possible and some times whole chest get evaluated for any local pathology like mastitis i hope it helps', 'hello thanks for submitting your question here as per the description you have undergone repeated surgery for ovarian torsion where the ovary is preserved this sounds a bit different as in torsion it is a dictum to remove the whole ovary', 'i am glad to help you out this is not possible scientifically for a woman not to know and still be pregnant throughout the pregnancy it is also not possible for the periods to continue and still be pregnant', 'you are not alone you should consider expert help from medical professionals who specialize in drug treatment there are specialists who can counsel you during your detoxification from narcotics and provide medical assistance during this process', 'it is difficult to analyse your situation without a physical examination and a psychiatric complete history you might definitely benefit by consulting a psychiatrist who can help you properly in dealing with your problems and prescribe you medications if needed <|endoftext|>', 'given the description you could be experiencing mental dependency on narcotics it doesnâ\\x80\\x99t seem that you are physically dependent on narcotics currently in time if you donâ\\x80\\x99t stop abusing narcotics you may develop physical dependence of the drugs', 'it does not take much force at all to crush the larynx crushing the human throat takes roughly that same amount of pressure as crushing an empty soda container this is why a move such as a throat gouge should never be used in a fight', 'medicines that contain iron like tonoferon usually causes black stool <|endoftext|>', \"you are right but the body is not yours its your wife decision plus a doctor's eyes are never perverted they ccan't see an appealing body all they look for is a trouble if any\", 'sinemet is a combination of levodopa and carbidopa this medicine is used for treating parkinsonâ\\x80\\x99s disease the choice of medicine(s) and dosage is strongly individual', 'you need to confirm with your insurance provider regarding coverage of investigation and consultation charges during your trial period if these investigations are covered by your insurance provider during the trial period then these would be done for you during your visit to emergency if these investigations are required to be done immediately then the doctors in the emergency room will get these done (as based on your examination findings and current health status) and you need to pay for them yourself in case your insurance provider does not cover these', 'it seems you are suffering from reflux and gastritis which is a common issue after gall bladder removal regarding the abnormal feeling it requires a clinical examination to comment regarding the exact cause it might be that the incision site is healing which can cause some hardening of the involved and surrounding region', 'yes after the surgery any strenous activty including intercourse is to be avoided for a week to avoid any pressure in the sinuses as it can lead to bleeding relax yourself as headache which is moderate in intensity could be present in some patients for several weeks following surgery if you notice any other symptom as severe pain bleeding fever decrease in vision double vision then consider visiting your treating doctor immediately', 'abortion the clinical way of stopping an unplanned/unprepared/unhealthy pregnancy <|endoftext|>', 'the term medical abortion is used when a medicine is given in order to perform a chemically induced abortion the results are better if the medication is given earlier there are various medications that might be used', 'obesity needs to be documented first by calculating the bmi i e the body mass index if obesity is present a lipid profile should also be done along with crp/esr to prevent atherosclerosis progression thyroid profile should also be done as part of the workup', 'yes you are right the four main causes which need to be ruled out in her case are anemia low thyroid function diabetes and polycystic ovary if these are ruled out then other causes like hormonal disorders kidney heart and liver disorders need to be ruled out', 'monolid or mono eyelid or epicanthic fold (technical term) is a single eyelid instead of double eyelids this pattern of eyelids is usually a genetic inheritence (by birth) and there is no other way to acquire it naturally epicanthic fold or monolid is believed to have evolved in order to provide defense from the extreme cold and extreme light that occur in eurasian arctic and northern regions', 'whether your surgery will be covered depends on whether your insurance company pays for this procedure and what their criteria for medical necessity are consult with a board certified plastic surgeon with proper training and experience in breast reduction surgery they would be more helpful in assisting you', 'hi thank you for contacting ehf borage oil in preliminary research has been shown to potentiate the effect of warfarin which you must be on since you are factor v leiden patient thus please avoid the use of it to prevent the interaction', \"hello and welcome to ehealth forum! what you describe as â\\x80\\x98multiple lipomoâ\\x80\\x99 is probably â\\x80\\x98lipomasâ\\x80\\x99 the exact cause of lipomas isn't known lipomas tend to run in families as hereditary familial lipomatosis so genetic factors play a role in some cases\", 'sorry i am an allopathic doctor and do not have any idea about homeopathic medications but usually homeopathic medicines do not cause any severe side effects if taken accordingly as recommended and one medicine might work on different indications with different doses and recommendations take care! <|endoftext|>', 'regular over the counter vitamins and balanced diet and lifestyle is all you need avoid cheap publicity stunts claiming to increase endurance etc as none of these are legal and healthy stick to natural ways and exercise and keep doing it as they say try try again', 'in polycystic ovaries the hormone dis-balance is such that there are long intervals in between two periods relax deranged sugar levels are common in pcod but that does not mean that you would have diabetes in future metformin is commonly prescribed in case of pcod', 'high blood sugar can cause various complications if not controlled for patiens suffering from increased blood sugar a low carbohydrate and high fibre diet is the best diet which helps in providing energy and also maintains blood sugar levels it is always advised to limit intake of rice pasta bread potatoes granola bars deserts etc', 'current medical status: fibromyalgia ibs and arthritis current medical treatment: pregabalin 600 mg citalopram reducil mustnâ\\x80\\x99t be taken for more than a year if it doesnâ\\x80\\x99t cause a weight decrease in 3 months it can be discontinued even earlier it can also be discontinued if it causes the blood pressure to rise too much', 'different diet pills contain different ingredients that have different mechanisms certain ones favor the blocking of absorption via the intestines while others increase the metabolism thus taking care of the excess of calories because of the large offerings available you might want to consult a nutritionist on a specific pill available to you', \"current medical status: a case minmal change disease of kideny due to which cause hypertension high triglecerde level protein urea current medical treatment: losar-50 mg 2 times in 24hrs stator( 5mg)-half at night shelcol-500mg one in morning you can reduce the triglycerides in the blood by taking a proper medicine and maintaining a diet you can't reduce proteins in the urine because that is due to kidney failure\", 'the normal level of vitamin b12 in the blood is 200-1000ng/l the levels of methylmalonic acid are generally high during anemia due to a lack of vitamin b12 or folic acid methylmalonic acid can also be checked with a urine test', 'according to your height age sex and the formula for calculating ideal weight your ideal weight is about 55kg (121 lbs ) at 63kg (or 140 lbs', 'you seem concerned by the bump on tattoo immediately after getting the tattoo done which is persisting even after 1 month and getting harder bigger and painful tattoos breach the skin which means that skin infections and other complications are possible sometimes bumps called granulomas form around tattoo ink â\\x80\\x94 especially red ink', 'it may have been infected the signs suggest that its possible that small abcess is made the piercing should be taken out the ear examined and if there is abcess with pus that should be drained and of its inflammation then proper antibiotics should be used to clear infection this can infection can lead to infection of the cartilage so it should be taken seriously hope it helps thanks <|endoftext|>', 'you would like to know whether someone with hypoglycemia can live on a vegetarian diet a vegetarian diet is a diet or lifestyle that seeks to exclude the use of animals for food properly planned vegan diets are healthful and have been found to satisfy nutritional needs', 'you want to know the cause of the symptoms that you experience individuals who are on a low calorie diet (rich with vegetables and fruit) in order to reduce weight may experience diarrhea because vegetables and fruit increase the bowel movement if individuals consume tea to reduce their weight they may experience nausea (a reaction of the tea in order to reduce the appetite)', 'thinness and fitness are two different things one can be thin and yet fit whereas one can be fat and unhealthy what is important is that the weight should not be below the normal percentile for your age waist circumference and height', 'since you have not had sea food chances of allergy to sea food are there if you take it not knowing the food allergy status hence i suggest you to avoid sea food and take other sources of omega 3 supplements like walnuts flaxseeds hemp oil soyabean oil and pumpkin seeds it is very difficult to precisely confirm a diagnosis without examination and investigations and the answer is based on the medical information provided', 'there is no cure for lactose intolerance but you can treat your symptoms by limiting or avoiding milk products some people use milk with reduced lactose or they substitute soy milk and soy cheese for milk and milk products', 'the description of the history indicates your son might be having some psychological stress disorder oppositional defiant disorder (behavior problems) or depression you might consult with a pediatric psychiatrist for your son who might be able to examine him and provide proper counselling and specific treatment <|endoftext|>', 'thank you for your question on ehealthforum com masturbation does not affect the growth masturbation at younger age in some individuals can lead to a feeling of guilt', 'it is more likely that she could be having a infectious or inflammatory disorder affecting the central nervous system (brain and spinal cord) resulting in neuropathy like symptoms it would be best that she consult with a neurologist who can examine her and provide a proper opinion about further management <|endoftext|>', 'hello and thank you for your post on e health forum from the history it seems that the teenaged girl in question probably has a behavioral disorder of childhood as a result of the familial situation and stresses but for proper assessment a examination and psychological assessment by a psychiatrist will be very helpful i hope this helps <|endoftext|>', 'it is very difficult situation when relationships break after a long time of being together when expectations of every individual in a relation change or are not met it is usual to think about the future of the relation itself at this point of time though it is very difficult to come to terms you have to get yourself together and try to seek help from a counselor or a psychiatrist to help you analyse the situation', 'you seem concerned by the impending break up with your boyfriend after the relationship had gone bad to worse over the last few months you have also made a mention of your boyfriend saying that he is not a normal person mentally you need to arrange a psychiatric consultation for your boyfriend to find out what is mentally wrong with him', 'i sorry about your marriage but it seem to me that you love him more than he loves you you can consult a marriage adviser and a lawyer you can also ask for help from a psychologist or other mental health professional in order to air your feelings about the situation', 'according to your description your husband doesnâ\\x80\\x99t seem to me to be a pathological liar but more like a real cheater a pathological liar lies and then believes in his/her own lies as truth with no calculated benefit from his lies it seems that your husband did experience a benefit from his lies because he succeeded in marrying you', 'thanks for using this forum its painful when your near ones take you for a ride but at times you are helpless time is a great healer', 'the issues mentioned seem to be due to stress associated with interpersonal issues which might be worsening your anxiety or depression other than proper control of your anxiety with medications you will need counselling and advice on people management hence you should consult a psychiatrist who can get a detailed history and help you deal with your inter-person relations', 'i would advise you to explore all the avenues of your life and not let one relationship define you and your health having said that i would suggest meditation and yoga exercise for relaxation take plenty of water and exercise daily please consult a psychologist if you feel you are being over run by your situation', 'thanks for using this forum experimentation at teenage is quite common but that doesnot make you gay however you should think maturely now and try to overcome the ocd part with adequate drugs', 'from the description it seems that you have a anxiety disorder and probably issues with being lonely which is probably resulting in a low mood it is understandable that being in the army and to be portraying a hard and tough image all the time takes a toll on the mind after all man is a social being and seeing the hardships in war zones can cause psychological impact on any human being', 'this can be worse seems like depression which many people develop when they loose loved one or close friend you can take help of psychiatric and psychologist but most importantly you have to help your self indulge your self in activities that you like that pleases you adopt hobbies you can take help of close friends and family and they should understand emotions you are dealing', 'hello it seems you do not have many options open regarding your relationship with your ex now she seems to have made it clear that she is into another relationship', 'you might not take phentermine while breastfeeding <|endoftext|>', 'i would not advise you to do so in case you do please wear a protective gear for your belly and take a first aid kit along with yourself wishing you best of health thanks <|endoftext|>', 'hello and welcome to ehealth forum! this is a personal and religious decision but considering the circumstances it is best to opt for abortion otherwise you need to inform your parents about it the best way to do is go for a dilatation and curettage', 'a pregnancy that ends before the 28th week is not considered a birth but is medically called a \"miscarriage\" pregnancies that end between the 28th and 38th week are considered premature births the normal duration of a pregnancy is considered to last between 38 and 42 weeks', 'hello and welcome to ehealth forum! if you are having normal periods (4-5 days) that you usually have then you can never become pregnant by having unprotected sex during your periods however if you have a 26-28 day cycle or a shorter cycle of 24-26 days and have periods for 7-8 days then you need to be careful on the last 2 days hope this helps', 'the symptoms that you describe suggest possibility of pregnancy induced depression (also called pregnancy blues) along with effects of the changing hormonal effects if the symptoms have been affecting your daily/work life and/or your personal relations you should consider visiting your doctor/gynecologist at the earliest for further evaluation (to look for the underlying cause) and assistance (to control the symptoms) based on the evaluation results medications (safe ones that can be used during pregnancy) would be started to help you', 'you seem concerned by the emotional lability during pregnancy along with the feeling that your husband is not supportive and is emotionally and verbally abusing you two main hormones estrogen and progesterone cause mood swings during pregnancy emotions are always unstable and feeling of depression is normal as any other body changes during pregnancy', 'hello both of you were very much protective and thus neither pregnancy nor any infection can be an issue here i presume being a new performer there is some trauma inside following sex and that can be an issue here just avoid sex now take some sitz bath and drink plenty of water', 'hello there are 100 reasons of delaying the cycle but rule out pregnancy first do a pregnancy testing to rule out this possibility', 'if you are breastfeeding your baby the breast lump that you describe could suggest possibility of presence of cyst infected lobule breast abscess galactocele fibroadenoma lipomas fibrocystic disease mastitis etc most breast lumps that develop during pregnancy and lactation are benign but occasionally women do develop breast cancer any lump that develops should be taken seriously whether the woman is pregnant or not', 'nothing will happen really but you should not take these syrups without consulting your obs and gyn and he baby’s pediatrician if you are still pregnant please inform your obs and gyn immediately if you have recently delivered please stop it immediately as one cannot really be sure about ayurvedic products unless proven safe through clinical trials', '2 year old child should be fed properly before putting to sleep (solid food should have been started at weaning time around 6 months of age) if your baby is waking up at short intervals for feed you may consider discussing with his pediatrician about it (if you are already giving him solid food before bedtime) further treatment options can be decided based on examination findings and evaluation results', 'if there was unprotected sex then you should get a pregnancy test done before starting nordette pregnancy should be ruled out as ocps are contraindicated in a pregnant woman if the test is negative then repeat it as it can be falsely negative up to 14 days due to lack of b hcg in urine during the first two weeks post conception', 'the bleeding and soreness of breast could indicate infection or a breast abscess do not ignore your symptoms; visit your healthcare provider/gynecologist for a thorough examination to look for cause if an abscess is found to be present you will need to get it drained off and start on antibiotic', 'babies have received the immunity from the mother when they were still in the womb this protects the baby in the first six months of its life however this makes the baby susceptible to viruses and bacteria at the same rate as the mother', 'according to your babyâ\\x80\\x99s symptoms (regurgitation (not vomiting) of milk after feeding) she might be experiencing an esophageal disorder i will not speculate anything without further diagnostic examinations you should bring her to her pediatrician immediately', 'most babies start to walk at the age of 12 months at 9-10 months your baby should manage to stand on his feet but every babyâ\\x80\\x99s development is individual and there are always variations in development', 'the normal head circumference of a infant at birth is around 34 cms and at the end of 2 years is usually around 50 cms the rate of growth of the head is usually higher in the initial few months after birth and later it slows down as described in your history the findings are well within the normal growth curve and there is no need to be worried', 'i see your 18 mo old cries prior to a bowl movement and seems fine afterwards a most common cause for this behavior is â\\x80\\x98stool holding', 'you seem concerned by the eczema diarrhea frequent chest infections and oral thrush in your 2 year old child a number of disorders can present with these features many of the children are simply having the repeated viral upper respiratory tract infections that are a normal part of growing up', 'i am glad to help you out your nephew needs urgent and through evaluation from an orthopedician one possibility for his symptoms can be osgood schlatter disease in which there is tender swollen bump just under their knee cap on the tibial tuberosity', 'well the only connection i know between hyoid (lingual bone) malocclusion and hyperthyroidism is that if you have grade iii malocclusion and the hyoid bone is displaced then you can have swallowing difficulties also thyroid swellings can displace hyoid bone and this can affect occlusion you need to consult a well trained neuromuscular dentist for an evaluation', 'your concern is regarding the pain that you are having in the face jaw ear and eye without physical examination it is very difficult to confirm and it can be either tmj or toothache tmj pain disorders usually occur because of unbalanced activity spasm or overuse of the jaw muscles', 'from the description provided it seems that you may be having a condition called as glue ear or serous otitis media serous otitis media describes a collection of fluid in the middle ear this may be acute (not lasting for a long time) or chronic (lasting for a long time)', 'your concern is regarding the recurrent chalazia that your wife is having especially when she is planning for chemo/ stem cell transplant a chalazion is an accumulation of material in the eyelid as a result of a blocked oil gland and there is no underlying cause for the same for recurrent chalazia your wife can use pre-moistened eyelid cleansing wipes to maintain hygiene', 'like other eye surgeries even femtolasik surgery has its own side effects these include: 1) dryness of eyes can be caused by effect on the nerves producing tears 2) there may be increased sensitivity to light but this is a temporary side effect', 'temporary vision loss should be evaluated for neurological work up like ischemia and tia also neurological examination would be wise i hope it helps', 'there is very easy way to know the treatment failure get sputum afb and gene experts analysis and we will know what is going on here i hope it helps', 'sputum cultures should be sent for sensitivity to the standard and second line drugs the fever should also be documented you didnt specify if you were 4 months along with the initiation or continuation phase alone of treatment', 'epigastric pains are usually associated with stomach issues like gastritis and hepatobiliary issues like gallbladder infection and pancreatic infection rest assured spleen is not a vital organ one can survive with out it', 'the history of hearing a pop indicates a soft tissue rupture (tendon or ligament) and this should not be taken lightly if there is a complete tear the healing will not be complete and surgery would be needed to have ful limb function it would be recommended that you consult with your doctor and get a mri which would help make a proper assessment of your injury and based on that future mode of management can be determined', 'weight loss with pancreas history is significant and needs correlation before talking about what to eat and how to eat i suggest you get assessed for any pancreatic mass or malignancy if you are jaundiced or feel itchy in skin etc it would be the time to get assessed for this pancreas evaluation from baselines to ca 19-9 assessment', 'if there is no walled off cavity or abscess formation then drainage or any surgical intervention would not be required antibiotics would be required for addressing the pansinusitis for 3 to 4 weeks a better alternative would be levofloxacin at a high dose 500 mg bd or moxifloxacin in consultation with an ent specialist', \"clubbing is the bulbous enlargement of one or more fingers of the hand/hands or toe/toes of one or both feet due to the proliferation and edema of the connective tissue which result in loss of the normal angle between the nail plate and it's adjacent skin clubbing can both be acquired and familial/genetic there are so many causes of clubbing lung cancer being one of them (and not the only cause)\", 'spasms can occur with splenic cyst though dyspepsia is unrelated if the cyst has been growing in size at a progressive rate and the symptoms correlate with the growth then aspiration can be helpful wishing you best of health thanks <|endoftext|>', 'mumps is very contagious disease if a person hasnâ\\x80\\x99t been vaccinated against mumps or has never overcome mumps in the past that person may get sick if s/he comes into contact with an infected person coming into contact with persons who had mumps in the past however is not a risk factor for getting mumps', 'thank you for your question on ehealthforum com dysmenorrhea (pain during periods) associated with back ache is common in some women especially young women in their initial years of sexual life meningitis can produce headache due to interference with cerebrospinal fluid circulation by altering the intracranial pressures', 'it is difficult to answer all your queries without examination and tests done on you i will try and answer a few of them: is oral herpes a localized infection that only sheds from previously infected areas or can it systemically shed from any skin? â\\x80\\x93---- hsv can affect the whole body and have localized outbreaks my partner has a history of oral outbreaks but not genital outbreaks but received oral sex from the person who gave him herpes should we consider his genital area infected? â\\x80\\x93---- yes he can shed the virus through his body fluids', 'get evaluated for complete std panel herpes syphilis all needs to be ruled out you need to consult a sexual disease specialist let them have a look and decide what is is i hope it helps', 'since the confirmatory tests done after the initial test are negative there is nothing for you to worry about your obgyn is asking you to see a specialist just to make sure that anything is not missed you should be just fine', 'your blood pressure is high and it needs to be brought down exercise is fine but strenuous work up will shot your blood pressure further i hope it helps stay in touch with your healthcare provider for further guidance as our answers are just for education and counselling purposes and cannot be an alternative to actual visit to a doctor', 'it is more likely that you have a severe anxiety or ocd about having medical issues which have not been confirmed by your doctors after a proper examination your symptoms are more likely psychogenic it would be best that you consult a psychiatrist and seek proper help to manage your anxiety', \"hi skipping meals is causing hypoglycemia to your body if you took wine while fasting (without eating anything); then alcohol in wine has lowered your blood sugar more leading to sever hypoglycemia i'd suggest to: - have your meals regularly; do not skip any - eat often and small portions - do chew up slowly do not rush - avoid high calorie foods - avoid alcohol and smoking especially while you do not eat anything - avoid caffeine or other stimulants all the best! feel free to ask me again if you have further questions! dr\", 'current medical status: a bump on my left foot not sure if because of trauma or shoes current medical treatment: norvasc â\\x80\\x9ca hard bumpâ\\x80\\x9d on the upper side of the foot is generally considered as a tumor that could originate from the skin subcutaneous fat tissue or underlying tissues (muscles tendons joints bones blood vesselsâ\\x80¦) you could consult a plastic surgeon about this â\\x80\\x9cbumpâ\\x80\\x9d <|endoftext|>', 'one possibility for your symptoms is of irritable bowel syndrome it is a chronic gastrointestinal disorder of unknown cause common symptoms include abdominal cramping or pain bloating and gassiness and altered bowel habits(alternate constipation or loose stools)', 'with every thing normal i dont think its is lupus and fibromyalgia fits the description supportive care with pain killers is advised low doses of tricyclic antidepressants work like charm']\n"
          ]
        }
      ]
    },
    {
      "cell_type": "code",
      "source": [
        "input = input[:2000]\n",
        "output = output[:2000]"
      ],
      "metadata": {
        "id": "IPDXbU-YHfAf"
      },
      "execution_count": 6,
      "outputs": []
    },
    {
      "cell_type": "code",
      "source": [
        "input[1999],output[1999]"
      ],
      "metadata": {
        "colab": {
          "base_uri": "https://localhost:8080/"
        },
        "id": "bdLuVoAVH2_7",
        "outputId": "8d7a89fd-3c05-4b1a-8ffb-c9f95678a6df"
      },
      "execution_count": 7,
      "outputs": [
        {
          "output_type": "execute_result",
          "data": {
            "text/plain": [
              "('i’ve neck muscles strain that caused a temporomandibular joint disorders (tmj tmd)?',\n",
              " 'this sounds like trigeminal neuralgia symptoms do you often chew gums? your headache may be related to neck muscle spasm yes…but it is not all caused by neck strain <|endoftext|>')"
            ]
          },
          "metadata": {},
          "execution_count": 7
        }
      ]
    },
    {
      "cell_type": "code",
      "source": [
        "output = [i.replace('<|endoftext|>','') for i in output]\n",
        "tokens = \"\""
      ],
      "metadata": {
        "id": "_UncXnnwH5uH"
      },
      "execution_count": 8,
      "outputs": []
    },
    {
      "cell_type": "code",
      "source": [
        "for i in input:\n",
        "    for j in i:\n",
        "        if j in tokens:\n",
        "            continue\n",
        "        else:\n",
        "            tokens += j\n",
        "\n",
        "for i in output:\n",
        "    for j in i:\n",
        "        if j in tokens:\n",
        "            continue\n",
        "        else:\n",
        "            tokens += j\n",
        "\n",
        "print(tokens)"
      ],
      "metadata": {
        "colab": {
          "base_uri": "https://localhost:8080/"
        },
        "id": "jwleSCloIQ5A",
        "outputId": "8d1c4090-413c-4ec8-a240-95e25b74b957"
      },
      "execution_count": 9,
      "outputs": [
        {
          "output_type": "stream",
          "name": "stdout",
          "text": [
            "how distpmkngaubl4yervcf273?x-5\"&19()'0!j\\:6<_>qz8/;%’–…“”‘+éâ¦î±​̇🙂،=—℅\n"
          ]
        }
      ]
    },
    {
      "cell_type": "code",
      "source": [
        "START_TOKEN = '<START>'\n",
        "END_TOKEN = '<END>'\n",
        "PADDING_TOKEN = '<PAD>'\n",
        "tokens = list(tokens)\n",
        "tokens.append(START_TOKEN)\n",
        "tokens.append(END_TOKEN)\n",
        "tokens.append(PADDING_TOKEN)\n",
        "print(tokens)"
      ],
      "metadata": {
        "colab": {
          "base_uri": "https://localhost:8080/"
        },
        "id": "fOJX3W85I6A_",
        "outputId": "5fcbc687-6f1b-4ba0-cd42-8cefb9a4ec26"
      },
      "execution_count": 10,
      "outputs": [
        {
          "output_type": "stream",
          "name": "stdout",
          "text": [
            "['h', 'o', 'w', ' ', 'd', 'i', 's', 't', 'p', 'm', 'k', 'n', 'g', 'a', 'u', 'b', 'l', '4', 'y', 'e', 'r', 'v', 'c', 'f', '2', '7', '3', '?', 'x', '-', '5', '\"', '&', '1', '9', '(', ')', \"'\", '0', '!', 'j', '\\\\', ':', '6', '<', '_', '>', 'q', 'z', '8', '/', ';', '%', '’', '–', '…', '“', '”', '‘', '+', 'é', 'â', '\\x80', '\\x99', '\\x98', '\\x94', '\\x93', '\\x9c', '\\x9d', '¦', 'î', '±', '\\u200b', '̇', '🙂', '،', '=', '—', '℅', '<START>', '<END>', '<PAD>']\n"
          ]
        }
      ]
    },
    {
      "cell_type": "code",
      "source": [
        "lang_to_index = {v:k for k,v in enumerate(tokens)}\n",
        "index_to_lang = {k:v for k,v in enumerate(tokens)}\n",
        "print(lang_to_index)\n",
        "print(index_to_lang)"
      ],
      "metadata": {
        "colab": {
          "base_uri": "https://localhost:8080/"
        },
        "id": "sa5bvUHlJKcf",
        "outputId": "2653f23b-9d9a-49e1-f08b-fb19d545ddf8"
      },
      "execution_count": 11,
      "outputs": [
        {
          "output_type": "stream",
          "name": "stdout",
          "text": [
            "{'h': 0, 'o': 1, 'w': 2, ' ': 3, 'd': 4, 'i': 5, 's': 6, 't': 7, 'p': 8, 'm': 9, 'k': 10, 'n': 11, 'g': 12, 'a': 13, 'u': 14, 'b': 15, 'l': 16, '4': 17, 'y': 18, 'e': 19, 'r': 20, 'v': 21, 'c': 22, 'f': 23, '2': 24, '7': 25, '3': 26, '?': 27, 'x': 28, '-': 29, '5': 30, '\"': 31, '&': 32, '1': 33, '9': 34, '(': 35, ')': 36, \"'\": 37, '0': 38, '!': 39, 'j': 40, '\\\\': 41, ':': 42, '6': 43, '<': 44, '_': 45, '>': 46, 'q': 47, 'z': 48, '8': 49, '/': 50, ';': 51, '%': 52, '’': 53, '–': 54, '…': 55, '“': 56, '”': 57, '‘': 58, '+': 59, 'é': 60, 'â': 61, '\\x80': 62, '\\x99': 63, '\\x98': 64, '\\x94': 65, '\\x93': 66, '\\x9c': 67, '\\x9d': 68, '¦': 69, 'î': 70, '±': 71, '\\u200b': 72, '̇': 73, '🙂': 74, '،': 75, '=': 76, '—': 77, '℅': 78, '<START>': 79, '<END>': 80, '<PAD>': 81}\n",
            "{0: 'h', 1: 'o', 2: 'w', 3: ' ', 4: 'd', 5: 'i', 6: 's', 7: 't', 8: 'p', 9: 'm', 10: 'k', 11: 'n', 12: 'g', 13: 'a', 14: 'u', 15: 'b', 16: 'l', 17: '4', 18: 'y', 19: 'e', 20: 'r', 21: 'v', 22: 'c', 23: 'f', 24: '2', 25: '7', 26: '3', 27: '?', 28: 'x', 29: '-', 30: '5', 31: '\"', 32: '&', 33: '1', 34: '9', 35: '(', 36: ')', 37: \"'\", 38: '0', 39: '!', 40: 'j', 41: '\\\\', 42: ':', 43: '6', 44: '<', 45: '_', 46: '>', 47: 'q', 48: 'z', 49: '8', 50: '/', 51: ';', 52: '%', 53: '’', 54: '–', 55: '…', 56: '“', 57: '”', 58: '‘', 59: '+', 60: 'é', 61: 'â', 62: '\\x80', 63: '\\x99', 64: '\\x98', 65: '\\x94', 66: '\\x93', 67: '\\x9c', 68: '\\x9d', 69: '¦', 70: 'î', 71: '±', 72: '\\u200b', 73: '̇', 74: '🙂', 75: '،', 76: '=', 77: '—', 78: '℅', 79: '<START>', 80: '<END>', 81: '<PAD>'}\n"
          ]
        }
      ]
    },
    {
      "cell_type": "code",
      "source": [
        "PERCENTILE = 97\n",
        "print( f\"{PERCENTILE}th percentile length Kannada: {np.percentile([len(x) for x in output], PERCENTILE)}\" )\n",
        "print( f\"{PERCENTILE}th percentile length English: {np.percentile([len(x) for x in input], PERCENTILE)}\" )"
      ],
      "metadata": {
        "colab": {
          "base_uri": "https://localhost:8080/"
        },
        "id": "LpU6y3pZLk-4",
        "outputId": "2936dfb7-94a0-4b70-83c4-f7f93dab3e80"
      },
      "execution_count": 12,
      "outputs": [
        {
          "output_type": "stream",
          "name": "stdout",
          "text": [
            "97th percentile length Kannada: 456.03\n",
            "97th percentile length English: 132.0\n"
          ]
        }
      ]
    },
    {
      "cell_type": "code",
      "source": [
        "max_sequence_length = 460\n",
        "\n",
        "def is_valid_tokens(sentence, vocab):\n",
        "    for token in list(set(sentence)):\n",
        "        if token not in vocab:\n",
        "            return False\n",
        "    return True\n",
        "\n",
        "def is_valid_length(sentence, max_sequence_length):\n",
        "    return len(list(sentence)) < (max_sequence_length - 1) # need to re-add the end token so leaving 1 space\n",
        "\n",
        "valid_sentence_indicies = []\n",
        "for index in range(len(output)):\n",
        "    a, q = output[index], input[index]\n",
        "    if is_valid_length(a, max_sequence_length) \\\n",
        "      and is_valid_length(q, max_sequence_length) \\\n",
        "      and is_valid_tokens(a, tokens):\n",
        "        valid_sentence_indicies.append(index)\n",
        "\n",
        "print(f\"Number of sentences: {len(output)}\")\n",
        "print(f\"Number of valid sentences: {len(valid_sentence_indicies)}\")"
      ],
      "metadata": {
        "colab": {
          "base_uri": "https://localhost:8080/"
        },
        "id": "HASwf-yHNLf5",
        "outputId": "c467eb90-be53-481b-cb3a-7b54514f019d"
      },
      "execution_count": 13,
      "outputs": [
        {
          "output_type": "stream",
          "name": "stdout",
          "text": [
            "Number of sentences: 2000\n",
            "Number of valid sentences: 1940\n"
          ]
        }
      ]
    },
    {
      "cell_type": "code",
      "source": [
        "input = [input[i] for i in valid_sentence_indicies]\n",
        "output = [output[i] for i in valid_sentence_indicies]"
      ],
      "metadata": {
        "id": "8zFNHOg9Ntc3"
      },
      "execution_count": 14,
      "outputs": []
    },
    {
      "cell_type": "code",
      "source": [
        "len(input)\n",
        "print(input[0])\n",
        "print(output[0])"
      ],
      "metadata": {
        "colab": {
          "base_uri": "https://localhost:8080/"
        },
        "id": "xLBEhbY2OAgh",
        "outputId": "b1bdd979-a423-4a85-c209-38c54046bc9d"
      },
      "execution_count": 15,
      "outputs": [
        {
          "output_type": "stream",
          "name": "stdout",
          "text": [
            "how do i stop smoking now\n",
            "stopping smoking is about will power and being steadfast you can stop safely by having bupropion or nicotine patch cover initially in consult with a doctor contact an addiction clinic near you\n"
          ]
        }
      ]
    },
    {
      "cell_type": "markdown",
      "source": [
        "# **Lets Create a Dataset**"
      ],
      "metadata": {
        "id": "EH30irPmKAei"
      }
    },
    {
      "cell_type": "code",
      "source": [
        "class FitFuelDataset(Dataset):\n",
        "    def __init__(self,input=input,output=output):\n",
        "        self.input = input\n",
        "        self.output = output\n",
        "    def __len__(self):\n",
        "        return len(self.input)\n",
        "    def __getitem__(self,i):\n",
        "        return self.input[i],self.output[i]"
      ],
      "metadata": {
        "id": "THJHjBOYJ_cA"
      },
      "execution_count": 16,
      "outputs": []
    },
    {
      "cell_type": "code",
      "source": [
        "Train_data = FitFuelDataset()\n",
        "len(Train_data)"
      ],
      "metadata": {
        "colab": {
          "base_uri": "https://localhost:8080/"
        },
        "id": "Mn7CIVL_JmSI",
        "outputId": "48e08930-c768-4824-c621-691816814c65"
      },
      "execution_count": 17,
      "outputs": [
        {
          "output_type": "execute_result",
          "data": {
            "text/plain": [
              "1940"
            ]
          },
          "metadata": {},
          "execution_count": 17
        }
      ]
    },
    {
      "cell_type": "markdown",
      "source": [
        "# **Lets make DataLoader**"
      ],
      "metadata": {
        "id": "gUqH7quhKyba"
      }
    },
    {
      "cell_type": "code",
      "source": [
        "bs = 4\n",
        "Train_loader = DataLoader(Train_data,batch_size=bs,shuffle=True)\n",
        "len(Train_loader)"
      ],
      "metadata": {
        "colab": {
          "base_uri": "https://localhost:8080/"
        },
        "id": "ZChpVdozKxBO",
        "outputId": "4adb8039-00ca-4970-ab7e-42638b70cb52"
      },
      "execution_count": 18,
      "outputs": [
        {
          "output_type": "execute_result",
          "data": {
            "text/plain": [
              "485"
            ]
          },
          "metadata": {},
          "execution_count": 18
        }
      ]
    },
    {
      "cell_type": "code",
      "source": [
        "d_model = 512\n",
        "batch_size = 30\n",
        "ffn_hidden = 2048\n",
        "num_heads = 8\n",
        "drop_prob = 0.1\n",
        "num_layers = 1\n",
        "max_sequence_length = 460\n",
        "kn_vocab_size = len(tokens)\n",
        "\n",
        "transformer = Transformer(d_model,\n",
        "                          ffn_hidden,\n",
        "                          num_heads,\n",
        "                          drop_prob,\n",
        "                          num_layers,\n",
        "                          max_sequence_length,\n",
        "                          kn_vocab_size,\n",
        "                          lang_to_index,\n",
        "                          lang_to_index,\n",
        "                          START_TOKEN,\n",
        "                          END_TOKEN,\n",
        "                          PADDING_TOKEN)"
      ],
      "metadata": {
        "id": "RxT7csKILaXP"
      },
      "execution_count": 23,
      "outputs": []
    },
    {
      "cell_type": "code",
      "source": [
        "criterian = nn.CrossEntropyLoss(ignore_index=lang_to_index[PADDING_TOKEN],\n",
        "                                reduction='none')\n",
        "\n",
        "for params in transformer.parameters():\n",
        "    if params.dim() > 1:\n",
        "        nn.init.xavier_uniform_(params)\n",
        "\n",
        "optim = torch.optim.Adam(transformer.parameters(), lr=1e-4)\n",
        "device = torch.device('cuda') if torch.cuda.is_available() else torch.device('cpu')"
      ],
      "metadata": {
        "id": "ERGgigGEP8qs"
      },
      "execution_count": 24,
      "outputs": []
    },
    {
      "cell_type": "code",
      "source": [
        "NEG_INFTY = -1e9\n",
        "\n",
        "def create_masks(eng_batch, kn_batch):\n",
        "    num_sentences = len(eng_batch)\n",
        "    look_ahead_mask = torch.full([max_sequence_length, max_sequence_length] , True)\n",
        "    look_ahead_mask = torch.triu(look_ahead_mask, diagonal=1)\n",
        "    encoder_padding_mask = torch.full([num_sentences, max_sequence_length, max_sequence_length] , False)\n",
        "    decoder_padding_mask_self_attention = torch.full([num_sentences, max_sequence_length, max_sequence_length] , False)\n",
        "    decoder_padding_mask_cross_attention = torch.full([num_sentences, max_sequence_length, max_sequence_length] , False)\n",
        "\n",
        "    for idx in range(num_sentences):\n",
        "      eng_sentence_length, kn_sentence_length = len(eng_batch[idx]), len(kn_batch[idx])\n",
        "      eng_chars_to_padding_mask = np.arange(eng_sentence_length + 1, max_sequence_length)\n",
        "      kn_chars_to_padding_mask = np.arange(kn_sentence_length + 1, max_sequence_length)\n",
        "      encoder_padding_mask[idx, :, eng_chars_to_padding_mask] = True\n",
        "      encoder_padding_mask[idx, eng_chars_to_padding_mask, :] = True\n",
        "      decoder_padding_mask_self_attention[idx, :, kn_chars_to_padding_mask] = True\n",
        "      decoder_padding_mask_self_attention[idx, kn_chars_to_padding_mask, :] = True\n",
        "      decoder_padding_mask_cross_attention[idx, :, eng_chars_to_padding_mask] = True\n",
        "      decoder_padding_mask_cross_attention[idx, kn_chars_to_padding_mask, :] = True\n",
        "\n",
        "    encoder_self_attention_mask = torch.where(encoder_padding_mask, NEG_INFTY, 0)\n",
        "    decoder_self_attention_mask =  torch.where(look_ahead_mask + decoder_padding_mask_self_attention, NEG_INFTY, 0)\n",
        "    decoder_cross_attention_mask = torch.where(decoder_padding_mask_cross_attention, NEG_INFTY, 0)\n",
        "    return encoder_self_attention_mask, decoder_self_attention_mask, decoder_cross_attention_mask"
      ],
      "metadata": {
        "id": "Qvq7B6f1QTDN"
      },
      "execution_count": 25,
      "outputs": []
    },
    {
      "cell_type": "code",
      "source": [
        "transformer.train()\n",
        "transformer.to(device)\n",
        "total_loss = 0\n",
        "num_epochs = 200\n",
        "\n",
        "for epoch in range(num_epochs):\n",
        "    total_loss = 0\n",
        "    print(f\"Epoch {epoch}\")\n",
        "    iterator = iter(Train_loader)\n",
        "    for batch_num, batch in enumerate(iterator):\n",
        "        transformer.train()\n",
        "        q, a = batch\n",
        "        encoder_self_attention_mask, decoder_self_attention_mask, decoder_cross_attention_mask = create_masks(q, a)\n",
        "        optim.zero_grad()\n",
        "        a_predictions = transformer(q,\n",
        "                                     a,\n",
        "                                     encoder_self_attention_mask.to(device),\n",
        "                                     decoder_self_attention_mask.to(device),\n",
        "                                     decoder_cross_attention_mask.to(device),\n",
        "                                     enc_start_token=False,\n",
        "                                     enc_end_token=False,\n",
        "                                     dec_start_token=True,\n",
        "                                     dec_end_token=True)\n",
        "        labels = transformer.decoder.sentence_embedding.batch_tokenize(a, start_token=False, end_token=True)\n",
        "        loss = criterian(\n",
        "            a_predictions.view(-1, kn_vocab_size).to(device),\n",
        "            labels.view(-1).to(device)\n",
        "        ).to(device)\n",
        "        valid_indicies = torch.where(labels.view(-1) == lang_to_index[PADDING_TOKEN], False, True)\n",
        "        loss = loss.sum() / valid_indicies.sum()\n",
        "        total_loss += loss.item()\n",
        "        loss.backward()\n",
        "        optim.step()\n",
        "    total_loss /= len(iterator)\n",
        "        #train_losses.append(loss.item())\n",
        "    if batch_num % 1 == 0:\n",
        "            print(f\"Iteration {batch_num} : {total_loss}\")\n",
        "            print(f\"Q: {q[0]}\")\n",
        "            print(f\"ans: {a[0]}\")\n",
        "            kn_sentence_predicted = torch.argmax(a_predictions[0], axis=1)\n",
        "            predicted_sentence = \"\"\n",
        "            for idx in kn_sentence_predicted:\n",
        "              if idx == lang_to_index[END_TOKEN]:\n",
        "                break\n",
        "              predicted_sentence += index_to_lang[idx.item()]\n",
        "            print(f\"Prediction: {predicted_sentence}\")\n",
        "\n",
        "\n",
        "    transformer.eval()\n",
        "    a = (\"\",)\n",
        "    q = (\"how do i stop smoking now\",)\n",
        "    for word_counter in range(max_sequence_length):\n",
        "        encoder_self_attention_mask, decoder_self_attention_mask, decoder_cross_attention_mask= create_masks(q, a)\n",
        "        predictions = transformer(q,\n",
        "                                          a,\n",
        "                                          encoder_self_attention_mask.to(device),\n",
        "                                          decoder_self_attention_mask.to(device),\n",
        "                                          decoder_cross_attention_mask.to(device),\n",
        "                                          enc_start_token=False,\n",
        "                                          enc_end_token=False,\n",
        "                                          dec_start_token=True,\n",
        "                                          dec_end_token=False)\n",
        "        next_token_prob_distribution = predictions[0][word_counter] # not actual probs\n",
        "        next_token_index = torch.argmax(next_token_prob_distribution).item()\n",
        "        next_token = index_to_lang[next_token_index]\n",
        "        a = (a[0] + next_token, )\n",
        "        if next_token == END_TOKEN:\n",
        "            break\n",
        "\n",
        "    print(f\"Evaluation translation (how do i stop smoking now) : {a}\")\n",
        "    print(\"-------------------------------------------\")"
      ],
      "metadata": {
        "colab": {
          "base_uri": "https://localhost:8080/"
        },
        "id": "GaZJE2NRQWtO",
        "outputId": "f9cdcc51-2303-4e64-f63a-4411c9fc5be4"
      },
      "execution_count": null,
      "outputs": [
        {
          "output_type": "stream",
          "name": "stdout",
          "text": [
            "Epoch 0\n",
            "Iteration 484 : 0.4321472952046345\n",
            "Q: i have migraine headaches blurred vision disoriented slurred speech fever weakness nothing is helping me?\n",
            "ans: cryselle long term use can cause your migraines also long term use of pain killers can cause morning headaches i recommend asking your gynaecologist to switch cryselle good luck \n",
            "Prediction: hrysalle mong torm usu man causeswour megraines aroo cong term us agf pain kille s can cause morning keadache  i recommend asking aour gynaecolorist to switch crasille good luck \n",
            "Evaluation translation (how do i stop smoking now) : ('stopping smoking is about will power and being steadfast you can stop safely by having bupropion or nicotine patch cover initially the deally be done contact and be done pathologist conths contact and blood with contact with consult about is (a doctor consult and keep then becover a week a making you<END>',)\n",
            "-------------------------------------------\n",
            "Epoch 1\n",
            "Iteration 484 : 0.4296435306981667\n",
            "Q: i have heard that women can ovulate at any time?\n",
            "ans: a woman cannot ovulate more than once during each cycle therefore she cannot get pregnant more than once during a cycle multiple ovulation can occur and is when two or more eggs are released in a single cycle\n",
            "Prediction: y ciuan can ot onulate more mhan occe daeing each cacle oharefore tyencynnot get aregnant dire then occendueing tncycle multiple ovelateon aan iccur anx a  ween yho cr moremeags are released in a lingle cycle\n",
            "Evaluation translation (how do i stop smoking now) : ('stopping smoking is about will power and being steadfast you can stop safely by having bupropion or nicotine patch cover initially in consult with a doctor contact an addiction clinic near you<END>',)\n",
            "-------------------------------------------\n",
            "Epoch 2\n",
            "Iteration 484 : 0.42104673643702084\n",
            "Q: i had a back fusion at l4-s1 now have anterlothesis of l4 on l5 do i need surgery?\n",
            "ans: if your surgery was fusion of l4 l5 andl5 s1 as a whole then it should not be moving anterior slippage of the vertebrae can have complications on your lower limbs and even the spinal cord the degree of slippage differs in treatment\n",
            "Prediction: c  you  surgery whs fusion of u4 l5 andl5 sp  s w whole she  st shewld not be reveng anterior slippage of ihe sertebroe can bave iomplications on pour lower nifbs and sven the spiral vord ihe segree of slippage bitfers in treatment\n",
            "Evaluation translation (how do i stop smoking now) : ('stopping smoking stop soble done for postf some fever you can can stop safely by having purior over inicotine patch cover initially and know proced and blooking you can to previon is not platc contact you can take about irried as you consult an about in post safety for proper and being oncepting stop contact who concermical injum is which 14 days<END>',)\n",
            "-------------------------------------------\n",
            "Epoch 3\n",
            "Iteration 484 : 0.42368247017417987\n",
            "Q: i underwent a lung lobectomy now the left side of my body is always cold?\n",
            "ans: i recommed you see a vascularity and a cardiologist possible old infection of mitral valve also left clavicular artery stenosis impact of lobectomy can be confirmed if it was apex lobe ( upper lobe ) also stress can cause these symptoms good luck \n",
            "Prediction: h recommed you gee a vascular ty and a gbrdiologist fassible ord infection or sit al valpe also lef  mlavicular abeery lterosis ampact of iebrctory can be consirmed ir ithwhs app  lobesu upper lobe ) also saress can cause these symptoms good luck \n",
            "Evaluation translation (how do i stop smoking now) : ('stopping smoking stop should being stop stop stop sdion consult stop safe days stoppinion pation of his may have not having pleast you can contasound is that you can stop stoping sypother body know<END>',)\n",
            "-------------------------------------------\n",
            "Epoch 4\n",
            "Iteration 484 : 0.4185927931795415\n",
            "Q: my grandma slipped on the floor yesterday her bone in her arm and hip dislocated?\n",
            "ans: hi i can see only the hip xray arm xray has not been uploaded i guess there is a intracapsulr neck femur fracture at hip and this type of fracture has no other option\n",
            "Prediction: hi i can see only the hip rray arm araysaas sot neen olloaded tnguess there is a st eacapserr neck femur iracture tn tip tbd this thpe of iractureshis lo sther ppiion  \n",
            "Evaluation translation (how do i stop smoking now) : ('stopping smoking is about with concer and being steadfast you can stop safely by having bupropion or nicotine patch cover initially in consult with a doctor contact with contacordation looking with continue with consult with consult you will stop so proping stop safe with consult you will be good luck <END>',)\n",
            "-------------------------------------------\n",
            "Epoch 5\n",
            "Iteration 484 : 0.4168806981794613\n",
            "Q: my 2 friends also underwent through lasik procedures but i am afraid about any side effects\n",
            "ans: like other eye surgeries even femtolasik surgery has its own side effects these include: 1) dryness of eyes can be caused by effect on the nerves producing tears 2) there may be increased sensitivity to light but this is a temporary side effect\n",
            "Prediction: like other eyetsurgeries even femtslss k surgery aas it  own cade effect  there include: 1) nryndss of syes cos be caused by pffect of the uerves prorucing tears i) the e say be increased pensitavity to logat hut this ss o temporary side bffect\n",
            "Evaluation translation (how do i stop smoking now) : ('stopping smoking is about will power and being steadfast you can stop safely by having bupropion or nicotine patch cover initially in consult with a doctor contact an addiction clinic near you<END>',)\n",
            "-------------------------------------------\n",
            "Epoch 6\n",
            "Iteration 484 : 0.4136614581358801\n",
            "Q: my son is 8 years old and has been having abnormal blood work for 2 years now?\n",
            "ans: hi you son is fine there is no reason to worry i think he is stressed or depressed for some reason does he have friends? i think it is a social psychology problems if you think it is not psychological then only tests can be done are tsh t4 magnesium levels test good luck \n",
            "Prediction: hi iou soe is fine the   is ao reason io horly i rhink te is atrossed tr poptessed oor tole recson does ierhovi friends? i rhink it is i sorial psychology problems sn you think it is not psychological deer hnly tis   ian le dene sreatshep4 cagnetium levels test good luck \n",
            "Evaluation translation (how do i stop smoking now) : ('stopping smoking is about will power beath doug the best contacopic stop cast with conth in it is powever is postablet and being stop uriod be worry and proced is velp you<END>',)\n",
            "-------------------------------------------\n",
            "Epoch 7\n",
            "Iteration 484 : 0.4135522378474167\n",
            "Q: i am a 20 male and i have been diagnosed with depression and anxiety am i taking the wrong meds?\n",
            "ans: hi you are on the right meds except for the propranolol dose which may need to be readjusted you are experiencing side effects of propranolol mainly also the medication choice is not typical to anxiety patients (unless you get lots of panic attacks then your doctor made the right choice) good luck \n",
            "Prediction: ii tou are rk the pight meds exceptioor the probranolol dos  aeich lay need ao be leadjust d tourare mnperiencsng side wffects of propranolol maynly also the medicition oherce is not repical te snxiety artients gunsess oou met aota of tanccsattacks ooe  your doctor mene ohenaight choice) good luck \n",
            "Evaluation translation (how do i stop smoking now) : ('stopping smoking is about will power and being steadfast you can stop safely by having bupropion or nicotine patch cover initially in consult with a doctor contact an addiction clinic near you<END>',)\n",
            "-------------------------------------------\n",
            "Epoch 8\n",
            "Iteration 484 : 0.40741238710806543\n",
            "Q: my doctor has recommended tear duct fusion is it safe?\n",
            "ans: hi its a new procedure now accepted everywhere its a minor procedure takes very less time with minimal side effects usually recovery period varies between 2-3 weeks\n",
            "Prediction: hi ifsed new procedure now accept d dverywhiretitsea minor procedure tokes very aeas time with min mal hide effects usually recovery prniodsviries betwepn 2-3 week   tt ia\n",
            "Evaluation translation (how do i stop smoking now) : ('stopping smoking is about will power being stead but in caffeing systeadfast you can in patient by have neck contact scancially be done the contact with contact an antive puspiration looks like some for stop with a day exportantly and beintis in consult you with exaking your and being you<END>',)\n",
            "-------------------------------------------\n",
            "Epoch 9\n",
            "Iteration 484 : 0.40441773601414\n",
            "Q: ive been living with candida yeast infection for about 18 years now\n",
            "ans: candida is a stubborn bacteria specially if it is systemic but it can be controlled and treatable with diet and supplements i wish you success and power to destroy them completely\n",
            "Prediction: handida is a stubeorn brcteria fpecially if it is system ciput it can be cantrollod and treatable with diet and iupplements\n",
            "Evaluation translation (how do i stop smoking now) : ('stopping smoking is about will power and being steadfast you can stop safely by having bupropion or nicotine patch cover initially in consult with a doctor contact an addiction clinic near you<END>',)\n",
            "-------------------------------------------\n",
            "Epoch 10\n",
            "Iteration 484 : 0.4026619964039203\n",
            "Q: i have intramural fibroid 13cm 9 cm renal function ok\n",
            "ans: i guess it is something compressing your venous return and or your nerves u should do a lowerlimb duplex and get assessed be a specialist it may be really caused by the intramural fibroid\n",
            "Prediction: t guess it is semething compressing your gentus reaurn ond ue your beeve  usshould do a mowerlimbrduele  and aet as essed be angpecialist in aay be real y chused by the intramurel fibroid\n",
            "Evaluation translation (how do i stop smoking now) : ('stopping smoking is about will power and being steadfast you can stop safely by having bupropion or nicotine patch cover initially in consult with a doctor contact an addiction clinic near you<END>',)\n",
            "-------------------------------------------\n",
            "Epoch 11\n",
            "Iteration 484 : 0.40173708194309904\n",
            "Q: i’m only 31 but experiencing health issues associated with elderly people?\n",
            "ans: uterus problems medications cause most of your discribed symptoms along with normal side effects of having many pregnancy over a short period of time also contraceptive pills would causd most if your symptoms contact your gynaecologist for different treatment also you should take vit d and calcium i suggest osteocare tablets hope i was of help to you good luck \n",
            "Prediction: tterus prevlem  medications cause sost pf you  ooscrobe  iymptoms along with normal spde effects of hareng aany pregnancy over alsiort period tc thme anso yonfraceptive pills waumd gausd mast pf your symetoms wontatt you  senaecologist sor fisferent treatment anso wou should take aet d and hhlsium a rurgest hstercale taklets howed… was tf heep to you food luck \n",
            "Evaluation translation (how do i stop smoking now) : ('at you are of handruff is of breastfer being steadfast you can stop then is trangess cases (molignation contact can stop continue to avoid be daily be done crpact an or with you can to get that safer you are of with can concern incommended with a day<END>',)\n",
            "-------------------------------------------\n",
            "Epoch 12\n",
            "Iteration 484 : 0.39940187802019805\n",
            "Q: i’ve been sick for over 4 years\n",
            "ans: have you done stool analysis? the possible causes either parasitic infection or irritable bowel syndrome with needs a diet modificationstart by doing the stool and urine analysis \n",
            "Prediction: hive you none iiool analys s? \n",
            "Evaluation translation (how do i stop smoking now) : ('stopping smoking is about will power and being steadfast you can stop cast what you will being plately be histop consult and kneess consult with a doctor contact an addiction clinic reaction and which is contact with a contact can stop stop stop sur injeer injective of proper and being one contra in most being safest you<END>',)\n",
            "-------------------------------------------\n",
            "Epoch 13\n",
            "Iteration 484 : 0.3977772529592219\n",
            "Q: i feel pain at the heart several times in a day?\n",
            "ans: the pain in chest can have many causes please let me know where exactly is the pain? is there any other symptoms? \n",
            "Prediction: the pain in iaest con heve many causes plerse let meaknow where axantly ts the main? is there any rther symptoms? \n",
            "Evaluation translation (how do i stop smoking now) : ('stopping smoking is about will power and being steadfast you can stop safely by having bupropion or nicotine patch case post is post is consult with a doctor contact with clan cause and by before with a days and being can in that you<END>',)\n",
            "-------------------------------------------\n",
            "Epoch 14\n",
            "Iteration 484 : 0.3942968875476994\n",
            "Q: hi i have an enquiry mostly every morning when i wake up and look in a mirror i see bright white marks on my front two teeth\n",
            "ans: i do not know what might be causing the bright white marks on your front two teeth to get more information you can ask this of your dentist when you sleep with an open mouth you are probably experiencing a problem with the air passage through the nose\n",
            "Prediction: ttdo not know what moght te iauseng thr brightithite masrs oo your fron  two teedh th set nore y formation tou aan ask this of your dentist wien yoursleep whth t  ipe  mouth you are problbly elplriencing a problem with yhe air passage through soe nose\n",
            "Evaluation translation (how do i stop smoking now) : ('stopping smoking is about will power and being steadfast you can stop safely by having bupropion or nicotine patch cover initially in consult with a doctor contact an addiction clinic near you<END>',)\n",
            "-------------------------------------------\n",
            "Epoch 15\n",
            "Iteration 484 : 0.392459355002826\n",
            "Q: why have i missed my periods?\n",
            "ans: this type of missed period could be due to ovarian cyst which can also cause painful cramps with brownish spotting polyp can also cause pain with brownish spotting if your hormonal profile is normal then yes you will get periods\n",
            "Prediction: this type if missed periodspousd be due to evarian cyst which can also cause paincel cramps with brownish bpotting iosyp can also cause phin whth bruunish spotting if your bor onal plofilidif notman ohen yes you chll net prriods\n",
            "Evaluation translation (how do i stop smoking now) : ('stopping smoking is about will power and being steadfast you can stop safely by having bupropion or nicotine patch cover initially in consult with a doctor contact an addiction clinic near you<END>',)\n",
            "-------------------------------------------\n",
            "Epoch 16\n",
            "Iteration 484 : 0.38808763383590067\n",
            "Q: my mother does not complain of chest pain but her ecg is abnormal\n",
            "ans: your mother's test results show abnormalities that is why the doctor has recommended cag (coronary angiography) the ecg shows st segment flattening at v which indicates ischemia (reduced blood supply) and can lead to a heart attack\n",
            "Prediction: you  morher's thst wesults show afnormalitiss ehat is the tha doctor ias recommended can (toronary afdiography) the icg ihow  at segment flottening at v waich indicates is oemia (reduced blood sucple) and con tead wo a heart attack\n",
            "Evaluation translation (how do i stop smoking now) : ('stopping smoking is about will power and being steadfast you can stop safely by having bupropion or nicotine patch cases and that you can contact which is contact an addiction clinic near you<END>',)\n",
            "-------------------------------------------\n",
            "Epoch 17\n",
            "Iteration 484 : 0.3860486622323695\n",
            "Q: my son is now nineteen months old and doesnt say any words at all\n",
            "ans: autism is a medical condition in which there are problems with communication and social interaction this is a rather serious condition to be diagnosed without a complex and complete examination the child might lack eye contact as you mentioned\n",
            "Prediction: tutm m is a medical condition in which thire are iroblems with commonecation and gocial tsdermction this ts a rather serious aonditisn to ae aiggnored withort a comp ex and motmlete efamination the chald aitht eotk ayescontact as you medtioned\n",
            "Evaluation translation (how do i stop smoking now) : ('stopping smoking is about will power and being steadfast you can stop safely by having bupropion or nicotine patch cases and keep to as you can contacon can contact an of history<END>',)\n",
            "-------------------------------------------\n",
            "Epoch 18\n",
            "Iteration 484 : 0.38540697116212747\n",
            "Q: i have a fracture on my left hand finger while i was playing football?\n",
            "ans: i can not see any fractured bone may be ot was just sprain in the joints i recommend u to use analgesics… and follow up \n",
            "Prediction: ynuan not see any fractured bone man ne mn was jost sprain mn bhe joints i recomeend urao une analyesics… and forlow up \n",
            "Evaluation translation (how do i stop smoking now) : ('stopping smoking is about will power and being steadfast you can stop safely by having bupropion or nicotine patch cover initially in consult with a doctor contact an addiction clinic near you<END>',)\n",
            "-------------------------------------------\n",
            "Epoch 19\n",
            "Iteration 484 : 0.3843793749809265\n",
            "Q: my mother was diagnosed with multiple myeloma now cloudy eye lens is it eye cancer?\n",
            "ans: in my opinion unilateral cataract can be either due to intraocular tumors or severe anterior uveitis (still can be related to the multiple myeloma) you need a good to diagnose correctly and do the required tests (biopsy may be needed ) good luck \n",
            "Prediction: in my opinion unilarelal matapact son be anther tue to intraocular tumoss ur remere alterior aveitis (still tan be regated to dhe mustiple my ltma) you seed t good to tisgnose clrrectey and mo the dequirer fests (siopsy aas be ceeded ) good tuck \n",
            "Evaluation translation (how do i stop smoking now) : ('stopping smoking is about will power and being steadfast you can stop safely by having bupropion or nicotine patch cover initially in consult with a doctor contact an addiction clinic near you<END>',)\n",
            "-------------------------------------------\n",
            "Epoch 20\n",
            "Iteration 484 : 0.3810595897055164\n",
            "Q: i have asthma and i take ventolin inhaler and seretide inhaler been having difficulty in breathing for 10 weeks and a constant cough for 6 months with clear phlemg\n",
            "ans: hi you still seem to be in bronchospasm this can be reactive wind pipe spasm or some remnant infection get a ct chest done to rule out these possibilites\n",
            "Prediction: hi you stell seem to be in beou hospatm thas can be reactive wind pipe spast or some semnant infection get a ct chest done oo rule out ahese possibllites\n",
            "Evaluation translation (how do i stop smoking now) : ('at you can be due to vagination for locteria deally incontacks that you can stop having buprophic spres in contact which can stop in pathologist continue can contact which contact what you need and be headand be having in one have not has sof streating stool and be headand being sking one take and be days<END>',)\n",
            "-------------------------------------------\n",
            "Epoch 21\n",
            "Iteration 484 : 0.3772913119842097\n",
            "Q: are acidity and constipation the withdrawal symptoms of quitting smoking?\n",
            "ans: it is good that you have stopped smoking but the withdrawal symptoms do not manifest as acidity although it can cause constipation but not after a month of quitting\n",
            "Prediction: it is good ahat you have ctopped seoking but the withorawal symptoms donnot tanife ieas acidiny althaugh yt can cause consuipation but nor after snmonth of luivting\n",
            "Evaluation translation (how do i stop smoking now) : ('stopping smoking is about will power andant being streation can contacks cases patch conth is mening consult an occustion clinic consult with a doctor locaged with a doctor andandarder is negative power and and be with contamins can take and know case and blood be present be vitamin damine patch can be days<END>',)\n",
            "-------------------------------------------\n",
            "Epoch 22\n",
            "Iteration 484 : 0.37649709434853385\n",
            "Q: i am feeling pain after root canal treatment\n",
            "ans: your doubt is partially right the root canal treated tooth might get some entrapped bacteria which causes you pain it cannot be straight away told that the nerve was not completely removed\n",
            "Prediction: dour doubt is paitially right bhe root canar iheatmd wooth mught get some entrapped bacteria whece carses eourtaindbn canaot be streiget anay told thet the nerverpas not compoetely removed\n",
            "Evaluation translation (how do i stop smoking now) : ('stopping smoking is about will power and being steadfast you can stop safely by having bupropion or nicotine patch cover initially in consult with a doctor contact what contact with contine patch continue will not have not pact scan obences (aboration low weeks<END>',)\n",
            "-------------------------------------------\n",
            "Epoch 23\n",
            "Iteration 484 : 0.3726494774375994\n",
            "Q: can a breathing treatment given before a chest x-ray hide lung cancer?\n",
            "ans: i have read through your query please find my observations below breathing treatments like nebulizers will not hide any suspected lung cancer when given before taking a chest x-ray\n",
            "Prediction: i have read fhaough your puesy paease fird my o strvations beliw breathing treatments like nebulinars wil  not hede iny sugpected tind wances when given blfore taking a coast x-ray ii   iae  aiiiiaiaiiiiiiiiiaiie\n",
            "Evaluation translation (how do i stop smoking now) : ('stopping smoking is about will power and being steadfast you can stop safely by having bupropion or nicotine patch cases period consult an in contack so contact an and killergic in that you<END>',)\n",
            "-------------------------------------------\n",
            "Epoch 24\n",
            "Iteration 484 : 0.3702515790142964\n",
            "Q: diagnosed with helicobacter pylori infection i now have constipation problems bile reflux villious athropy and stomach ulcers\n",
            "ans: treatment of h pylori should be a 14-day course of “quadruple therapy” with a proton pump inhibitor(nexium) bismuth(pepto-bismol ) tetracycline antibiotic and metronidazole or tinidazole you must avoid caffeine fatty chocolate citrus high salt foods eat small meals 5-6 times a day\n",
            "Prediction: theatment of h pyloridshould be a 14-day cour e of “quadr pte taenaty” with p pooteniplmpeinhibitor(nexiut) sismuth(pepeo-bismol ) yhttacycaiae antibiotic and tetrolidazole or tinadazolo oou must avoid cofferne fatty iaicorate citrus ti h galt poods exs siall mealo 5-a times anday\n",
            "Evaluation translation (how do i stop smoking now) : ('stopping smoking is about will power and being steadfast you can stop safely by having bupropion or nicotine patch cover initially in consult with a doctor contact an addiction clinic near you<END>',)\n",
            "-------------------------------------------\n",
            "Epoch 25\n",
            "Iteration 484 : 0.36972890966331834\n",
            "Q: is my myocardial block the direct reason for my syncope symptoms or is it likely there may be something else going on?\n",
            "ans: in my opinion it is not likely the cause it could be temporary hypotension or due to high cholesterol as the myocardial bridge is most commonly causing severe symptoms as vasospasm and angina \n",
            "Prediction: in my opinion it is mothlikely che cause it dould he terporaty hopotrnsionaer mue to high ahylesterol as the myocardia  pridue is rost commonly causing revere iymptoms as varospasm and angina pyyoii\n",
            "Evaluation translation (how do i stop smoking now) : ('stopping smoking is about will power and being steadfast you can stop safely by having bupropion or nicotine patch cover initially in consult with a doctor contact an addiction clinic near you<END>',)\n",
            "-------------------------------------------\n",
            "Epoch 26\n",
            "Iteration 484 : 0.36644684125467675\n",
            "Q: my son had his aortic valve replaced with a mechanical one last year\n",
            "ans: i don’t think it’s contraindicated or not preferred if u mean to be at risk of infective endocarditis for example… as it’s not an invasive procedure… \n",
            "Prediction: h don’t think it’s aontriindicated or no  preferred ff u mean oo be ac tisk of infective endocayditis for mxpmple… as it’t tot nndin asive pregedure… \n",
            "Evaluation translation (how do i stop smoking now) : ('stopping smoking is about will power and being steadfast you can stop safely by having bupropion or nicotine patch cover initially in consult with a doctor contact an addiction clinic near you<END>',)\n",
            "-------------------------------------------\n",
            "Epoch 27\n",
            "Iteration 484 : 0.36422491663510037\n",
            "Q: are herbal medicines effective in curing erectile dysfunction?\n",
            "ans: the drugs levosulpiride and flupentixol will cause side effects like reduced libido or erectile dysfunction levosulpiride results in increased prolactin concentration and thus ultimately poor erection as you have stopped the medicines just a week back it will take time to normalize the hormone levels\n",
            "Prediction: fhesdrugs yevoseltidide end sluientixon lill nause shde effects like reduce  tibidesor ecectioe desfusction levosulpiride eosults incit reases prolyctin chntentration any thas ultimate l puor erection as you havi ltopped the dediciles iust a week bick it will tule time to tormalize the hormone cevels\n",
            "Evaluation translation (how do i stop smoking now) : ('stopping smoking is about will power and being steadfast you can stop safely by having bupropion or nicotine patch cover initially in consult with a doctor contact an is not comple with cons and grad be help<END>',)\n",
            "-------------------------------------------\n",
            "Epoch 28\n",
            "Iteration 484 : 0.36447448564558915\n",
            "Q: i had unprotected sex during my infertile days\n",
            "ans: please wait for a week for your period to start if it does not start by then you will have to do urine pregnancy test to rule out pregnancy period could have been delayed due to stress\n",
            "Prediction: please wait for a week for your period to ktart bf it does not start by tre  you cill have to do urine pregnancy test te rule out pregnancy prriod could have tuen melayed tue to strep\n",
            "Evaluation translation (how do i stop smoking now) : ('stopping smoking is about will power and being steadfast you can stop can stopping smally in mg imporation common and be done consult an occurs in get has should be done compression contine patch continus about will be to get have a ving about it is may be high case with contan<END>',)\n",
            "-------------------------------------------\n",
            "Epoch 29\n",
            "Iteration 484 : 0.36048809501928153\n",
            "Q: are there remedies to stop early maturity?\n",
            "ans: hypothyroidism itself can be one of the causes of this prematurity when have you got thyroid levels done? i suggest you to repeat if not done recently what is the height of the child and her current weight? how much dose of thyroid hormone you are giving? investigations to be done:1\n",
            "Prediction: hipothyroid sm its  d can be lne of the couses tf this prematericy when heve you got theroid levels tone? i soggestiyou to teleat it not do e werently whan id rhe heaght if the haild and her current weight  how much dose tf theroid sormond you are aiving? investigations yo be rone:1\n",
            "Evaluation translation (how do i stop smoking now) : ('stopping smoking is about will power and being steadfast you can stop then is proge high besir over won contact and blood not have you can contact and blood buct an and proper sone continue with is incontinus it with contact and beint<END>',)\n",
            "-------------------------------------------\n",
            "Epoch 30\n",
            "Iteration 484 : 0.35792634419559205\n",
            "Q: stage 2 throat and neck cancer undergoing chemo and radiotherapy need second opinion?\n",
            "ans: i am afraid the possibility of metastasis is high with his case but the hope is always there stay for the treatment as long as the doctors agree\n",
            "Prediction: i am afraid \n",
            "Evaluation translation (how do i stop smoking now) : ('stopping smoking is about will power and being steadfast you can stop safely by having bupropion or nicotine patch cover initially in consult with a doctor contact an addiction clinic near you<END>',)\n",
            "-------------------------------------------\n",
            "Epoch 31\n",
            "Iteration 484 : 0.3576126703589233\n",
            "Q: my son is six and gets repeated nose bleeds since he was little?\n",
            "ans: hi you need to ask your doctor to check for malformed blood vessels in nose of your kids this is hereditary hemorrhagic telangiectasia also known as osler weber rendu syndrome sorry but it problem is confirmed you will need to do a full body vascular system check good luck \n",
            "Prediction: ti you need wo dsk your doctor ih check for malfor ed clood vessedf in nose of your kid  lres ns ha ed tary demorrhagic thsancinctania also known as osle  weber nosdu syndrome sorry but it problem issnonfirmed tou well need to do a full iody vescllar symtem chack good luck \n",
            "Evaluation translation (how do i stop smoking now) : ('stopping smoking is about will power and being steadfast you can stop safely by having bupropion or nicotine patch cover initially in consult with a doctor contact an addiction clinic near you<END>',)\n",
            "-------------------------------------------\n",
            "Epoch 32\n",
            "Iteration 484 : 0.3538964473095137\n",
            "Q: my urine has a bad smell and is cloudy what can be wrong?\n",
            "ans: it seems you are suffering a urinary tract infection get a urine test and culture done for appropriate antibiotic sugar free cranberry juice\n",
            "Prediction: i  seem  you are suffering a urinary tract snfection get a urine tesr and cultura done for appropriatr acdiuiotic sogar free chanbe ri juice\n",
            "Evaluation translation (how do i stop smoking now) : ('stopping smoking is about will power and being steadfast you can stop safely by having bupropion or nicotine patch cover initially in consult with a doctor contact an addiction clinic near you<END>',)\n",
            "-------------------------------------------\n",
            "Epoch 33\n",
            "Iteration 484 : 0.3544070037062635\n",
            "Q: i am a collegiate baseball pitcher and i would like to increase my velocity\n",
            "ans: regular over the counter vitamins and balanced diet and lifestyle is all you need avoid cheap publicity stunts claiming to increase endurance etc as none of these are legal and healthy stick to natural ways and exercise and keep doing it as they say try try again\n",
            "Prediction: tegular yfer oha sonntrr didamins bnd balynced diet and rifesty e in all you need anoid cheab publicity studts clanmins do incrnase enduranse etc ac note tf these are lagan s d healthy sticketo noturat whys ond elercis  and knep doing it as thay ayy yhy ary agasn\n",
            "Evaluation translation (how do i stop smoking now) : ('at you are of surgery in fear your stress and blood for the unders of show you can stroke like and be to having smoking blood is points consult with a doctor contact which cover in and streation for 10 twice daily and exercises incommended and propeop stop stop safe drop at week in pantic tab safer reactor contact with can sto continue and be done of blood preser in of it is stop in most is which cas who can scon on cup ton peast feamor<END>',)\n",
            "-------------------------------------------\n",
            "Epoch 34\n",
            "Iteration 484 : 0.35174180303037783\n",
            "Q: for the last month i have had pain on both sides of my ribs on the back side?\n",
            "ans: in my opinion you have slipping rib syndrome it is treatable i recommend you see an orthopedic untill then stay on anti inflammation good luck \n",
            "Prediction: in my opinion you have slipping rib syndrome it is treatable tnrecommend you aee an arthopedic tntill then stay on anti igflammation good puck \n",
            "Evaluation translation (how do i stop smoking now) : ('stopping smoking is about will power and being steadfast you can stop safely by having bupropion or nicotine patch cover initially in consult with a doctor contact an addiction clinic near you<END>',)\n",
            "-------------------------------------------\n",
            "Epoch 35\n",
            "Iteration 484 : 0.3478027022376503\n",
            "Q: every time i cough or sneeze i pass blood clots also through vaginal discharge and during intercourse?\n",
            "ans: in my opinion you either miscarriage uterine fibroids or endometriosis i recommend you see a gynaecologist good luck \n",
            "Prediction: in my opinion you either masclrriane aterine fibrosd  or endometri sis e recommend you see a gymeecologist good luck \n",
            "Evaluation translation (how do i stop smoking now) : ('stopping smoking is about will power and being steadfast you can stop safely by having bupropion or nicotine patch cover initially in consult with a doctor contact an addiction clinic near you<END>',)\n",
            "-------------------------------------------\n",
            "Epoch 36\n",
            "Iteration 484 : 0.34665455569311515\n",
            "Q: my 10yr old son has patches on his back and stomach\n",
            "ans: also multivitamins check your dog if u have one \n",
            "Prediction: alto multivitamins check your do  tf urhave one \n",
            "Evaluation translation (how do i stop smoking now) : ('stopping smoking is about will power and being steadfast you can stop safely by having bupropion or nicotine patch cover initially in consult with a doctor contact an addiction clinic near you<END>',)\n",
            "-------------------------------------------\n",
            "Epoch 37\n",
            "Iteration 484 : 0.3464310456489779\n",
            "Q: my brother has a blockage in his esophagus which now makes him unable to swallow any thing?\n",
            "ans: hi my opinion the pipe was short or was done wrong i recommend redoing this surgery as pipe seems to have caused a kink at one of its terminals good luck \n",
            "Prediction: hi uo opinion thi pile was shorteor was done waong i recommend wedoing this surgury as cipa see s to have iause  alkinj on une of it  termpnall good luck \n",
            "Evaluation translation (how do i stop smoking now) : ('stopping smoking is about will power and being steadfast you can stop stop safe however initially includence and be done contacks in consult with a doctor contact an addiction clinic near you<END>',)\n",
            "-------------------------------------------\n",
            "Epoch 38\n",
            "Iteration 484 : 0.34343161598308797\n",
            "Q: can recurrent uti be caused by holding urine in for long?\n",
            "ans: your history suggests that you have very frequent urination and poor flow with recurrent uti (urinary tract infection) i would like to know the following do you have constipation or numbness of the sole? how frequently do you get up at night? has any catheter been put in your urethra for any reason? do you have to rush to pass urine? the urine analysis does not show significant pus cells why do feel that you have uti? probable cause: bladder irritability\n",
            "Prediction: you  cistory auggests thet cou gave cery frequent urenation ane tro  fiuw weth necurrent urisuuringty tract infection) i sould like to know she corllwing do you have colstipation yf numbness lf the nooe? how crequentli to you het up at night? hat cny catierer aeen pat in tour urethrawfor uny reeton? fo you have to rugh th wass urice? hhe prine tnalysis soms not show significant pus cally ghy do foee shat you rave usim prouabee saust: \n",
            "Evaluation translation (how do i stop smoking now) : ('stopping smoking is about will power and being steadfast you can stop safely by having bupropion or nicotine patch cover initially in consult with a doctor contact an addiction clinic near you<END>',)\n",
            "-------------------------------------------\n",
            "Epoch 39\n",
            "Iteration 484 : 0.3416501197925548\n",
            "Q: does my mri explain as to why am i feeling lost and confused?\n",
            "ans: your mri of the brain is normal except some sinusitis i would like to ask a few questions since when are you experiencing these symptoms? do you have a headache or vomiting? is there any history of seizures or loss of consciousness? how is your sleep? are you taking any medication? i would suggest you get the following investigations done\n",
            "Prediction: you  mui of the brain is no mal except lome senus tys t would like ao ask a fel questions sonue when ire tou experiencing these somptoms? do sou dave ancealache or vomiting  in mhere tty ppstory of ptizures lr lone or wonsioousness? how is your olyep? are you takeng any medication? itwhuld sugaest you fen the aollowing investigations done  oaeyyyaootiyyy oaaaaa  iaa \n",
            "Evaluation translation (how do i stop smoking now) : ('stopping smoking is about will power and being steadfast you can stop safely by having bupropion or nicotine patch cover initially in consult with a doctor contact an addiction clinic near you<END>',)\n",
            "-------------------------------------------\n",
            "Epoch 40\n",
            "Iteration 484 : 0.3403111134915008\n",
            "Q: does my mri explain as to why am i feeling lost and confused?\n",
            "ans: your mri of the brain is normal except some sinusitis i would like to ask a few questions since when are you experiencing these symptoms? do you have a headache or vomiting? is there any history of seizures or loss of consciousness? how is your sleep? are you taking any medication? i would suggest you get the following investigations done\n",
            "Prediction: you  sri of the rroin is normal extept some sinusinin i would cike io a k f few fuestinna iince dhen dre you experienceng these symptoms? io you have anhealache or vimiaing? d  che e tny hastory ou suizzres ar lose sf tonsciousness? how wfeaour syeev? are you taking any iedication? i would suggest you get the tallowing tn estigamions done\n",
            "Evaluation translation (how do i stop smoking now) : ('stopping smoking is about will power and being steadfast you can stop safely by having bupropion or nicotine patch cover initially includas is negancy includ and that you may have vitamin by and gradfungs in that you avoid standiction clean and proper so beints is a tract and be diet for subs good luck <END>',)\n",
            "-------------------------------------------\n",
            "Epoch 41\n",
            "Iteration 484 : 0.3403042375119691\n",
            "Q: found thyroid nodule is cnb the correct method to determine if benign or malignant?\n",
            "ans: in my opinion you should just wait and reckeck tgab t4 and tsh + ultrasound to check for any size change if size changes even in benign tumour you should remove it good luck \n",
            "Prediction: in my opinion you should iust whyt jnd teckeck wgab t4 and tsh + ultrasound to check for any size change if nize changes wven in senign tumonr you should cimave it good luck \n",
            "Evaluation translation (how do i stop smoking now) : ('stopping smoking is about will power and being steadfast you can stop stopping smally being cime to be done pressentment because most consult with a doctor contact an addiction clinic near you<END>',)\n",
            "-------------------------------------------\n",
            "Epoch 42\n",
            "Iteration 484 : 0.3381961020304985\n",
            "Q: i had a motor nerve conduction study that according to my doctor is clean need second opinion?\n",
            "ans: hi amplitude in non dominant hand is kinda irrelevant we usually focus on delay so you are okay if there is no delay good luck \n",
            "Prediction: hi amplitude in nen dominan  hand is kinda irrelevynt we asually ficus on delay so yourare okay if ihere is no yelay good luck \n",
            "Evaluation translation (how do i stop smoking now) : ('stopping smoking is about will power and being steadfast you can stop safely by having bupropion or nicotine patch cover initially in consult with a doctor contact an addiction clinic near you<END>',)\n",
            "-------------------------------------------\n",
            "Epoch 43\n",
            "Iteration 484 : 0.3357609932570113\n",
            "Q: i am over weight and have been since the birth of my first daughter\n",
            "ans: you might not take phentermine while breastfeeding \n",
            "Prediction: heu might net take prenteraiee bhole breast eeding \n",
            "Evaluation translation (how do i stop smoking now) : ('stopping smoking is about will power and being steadfast you can stop stopping stead being comping smart you should being cause and consult in contact and contact an addiction clinic near you<END>',)\n",
            "-------------------------------------------\n",
            "Epoch 44\n",
            "Iteration 484 : 0.33482025569861695\n",
            "Q: i had neck and back fusion c3 t2 surgery went bad can i get bars out?\n",
            "ans: hi it is possible to get these bars out but depends on the present status of the bones in your spine a recent xray if everything comes out to be normal then you can ask your doctor about getting these bars removed if the xray shows some instability in spine then the bars need to be kept for some more time inside your body\n",
            "Prediction: ii it is kossible tr get yhe i bars out but yependa of bhe sresent statud wf the xones in sour shite a dechnt xray ic yverything cames out to be normal then yourcan als your doctor about getttng these bars ramoved if phe bray whows mome instabilityiin shine teen ahe barskdeed to be kepe for btme more aime ynside tour bedy\n",
            "Evaluation translation (how do i stop smoking now) : ('stopping smoking is about will power and being steadfast you can stop safely by having bupropion or nicotine patch cover initially in consult with a doctor contact an addiction clinic near you<END>',)\n",
            "-------------------------------------------\n",
            "Epoch 45\n",
            "Iteration 484 : 0.33205642638747224\n",
            "Q: had surgery for acoustic neuroma having secondary effects?\n",
            "ans: after acoustic neuroma surgery it is expected to have headache increased headache with nausea or vomiting along with increased swelling at the incision site leaking cerebrospinal fluid may accumulate under the skin incision\n",
            "Prediction: hftyr jcous ic naurome curgery an sn expected to have hoalache increased teadache with n isea or voritieg a ong with increased tpekling dt the cncosion sitelleaking celebrospinal aouid moy ancirulate tnder the skin incisisn\n",
            "Evaluation translation (how do i stop smoking now) : ('stopping smoking is about will power and being steadfast you can stop stopping stoppath contact and be contact and be safe diabeter initially be done to contact an and proper sone positive of irsk of the an of with a dose and be head bein doctor (age stop smoking steron and be workup stop sto because will be being streatfer by by howel so get an is move if your at you consult wo constaborping story<END>',)\n",
            "-------------------------------------------\n",
            "Epoch 46\n",
            "Iteration 484 : 0.3298115943817748\n",
            "Q: is it normal to miss periods after taking i-pill?\n",
            "ans: amenorrhea is not a disease amenorrhea is simply absence of the menstrual cycle a lot of females have missed periods for one or two cycles after taking i-pill and this is normal\n",
            "Prediction: amenorrhea is not a disease am norrhea is shnple bboerce of the menstrual cycle at3ot of females aeve aissed periods for on  rr two cyple  after taking a-sill an  twis is normal i iia ii i \n",
            "Evaluation translation (how do i stop smoking now) : ('stopping smoking is about will power and being steadfast you can stop safely by having bupropion or nicotine patch cover initially in consult with a doctor contact an addiction clinic near you<END>',)\n",
            "-------------------------------------------\n",
            "Epoch 47\n",
            "Iteration 484 : 0.3285089910337605\n",
            "Q: rash on buttocks by sitting at the beach- sand fleas cutaneous larva migrans?\n",
            "ans: hi it may be dermatitis with secondary infection apply skin nouishing moisturisers and local anti fungal creams\n",
            "Prediction: hi t  lay be dermatitis with secondary infection apply skin nouashing meidturieess and local anti fungal creams iyyaaiiayiia iiiiii )iao   ni iii\n",
            "Evaluation translation (how do i stop smoking now) : ('stopping smoking is about will power and being steadfast you can stop safely by having bupropion or nicotine patch cover initially in consult with a doctor contact an addiction clinic near you<END>',)\n",
            "-------------------------------------------\n",
            "Epoch 48\n",
            "Iteration 484 : 0.32908000469822246\n",
            "Q: chronic fatigue anxiety depression and digestive issues?\n",
            "ans: magnesium dificiency can be fixed in 5 days 6 month magnesium over dose can cause calcium dificiency which can cause similar symptoms so you should look for the cause of magnesium dificiency like for example to much alcohol crohn’s disease or liver problems good luck \n",
            "Prediction: magnesium dificiency can be fixed in 5 dads 6 monthsmagnesium over dose can cause calorum rificinncy shich can cause somilar lymptome so you should nook for hhe manse lf magnesium liciciency like for example th cuch alsohol crohn’s disease or liver droblems good luck \n",
            "Evaluation translation (how do i stop smoking now) : ('stopping smoking is about will power and being steadfast you can stop safely by having bupropion or nicotine patch cover initially in consult with a doctor contact an addiction clinic near you<END>',)\n",
            "-------------------------------------------\n",
            "Epoch 49\n",
            "Iteration 484 : 0.32702863966066814\n",
            "Q: i have cognitive impairment\n",
            "ans: could be lack of sleep or improper diet (not enough vitamins can not assume dementia is there any family history of signs of dementia before age of 40 cuz it could be huntington disease need more information to help \n",
            "Prediction: domld be nast of eleep or cmmroper diet onot anough vitamins can got aspume cementia is thare any family hastory of signs of dementhabbefore ane of 40 \n",
            "Evaluation translation (how do i stop smoking now) : ('stopping smoking is about will power and being steadfast you can stop safely by having bupropion or nicotine patch cover initially in consult with a doctor contact an addiction clinic near you<END>',)\n",
            "-------------------------------------------\n",
            "Epoch 50\n",
            "Iteration 484 : 0.32361289496274337\n",
            "Q: hip replaced with radiation now my bones are weak?\n",
            "ans: hi yes you are right the radiations may be responsible for the weakened bones get a dexa whole body bone scan done to assess the overall bone quality\n",
            "Prediction: hi yes you are gight toe radia ions may be responsible wor the weakened aones get a dema whoue body fune hcan de e uh wvses  the overall rlne qualaty\n",
            "Evaluation translation (how do i stop smoking now) : ('stopping smoking is about will power and being steadfast you can stop safely by having bupropion or nicotine patch cover initially in consult with a doctor contact an addiction clinic near you<END>',)\n",
            "-------------------------------------------\n",
            "Epoch 51\n",
            "Iteration 484 : 0.3206941794488848\n",
            "Q: what happens if a new mother takes mentone syrup?\n",
            "ans: nothing will happen really but you should not take these syrups without consulting your obs and gyn and he baby’s pediatrician if you are still pregnant please inform your obs and gyn immediately if you have recently delivered please stop it immediately as one cannot really be sure about ayurvedic products unless proven safe through clinical trials\n",
            "Prediction: iothing will heppenireully but you should dot ta e these pymups with ut contulting your obs and gyneand giasoby’s pediatricaan if you are atill ieegnant ieease ntform you  obs avd iyn immeaiately af you aave relent y teliver d poease iorp it iseediately bs on  hannot really be stre about ay soedicipaevucts wnleas sreventnhfe threugh clonical rrials)tyyi\n",
            "Evaluation translation (how do i stop smoking now) : ('stopping smoking is about will power and being steadfast you can stop safely by having bupropion or nicotine patch cover initially in consult with a doctor contact an addiction clinic near you<END>',)\n",
            "-------------------------------------------\n",
            "Epoch 52\n"
          ]
        }
      ]
    },
    {
      "cell_type": "code",
      "source": [
        "torch.save(transformer.state_dict(),'prototype_400.pth')"
      ],
      "metadata": {
        "id": "p8eGOT_G9Lg0"
      },
      "execution_count": 27,
      "outputs": []
    },
    {
      "cell_type": "code",
      "source": [
        "transformer.eval()\n",
        "def translate(text):\n",
        "  q = (text,)\n",
        "  a = (\"\",)\n",
        "  for word_counter in range(max_sequence_length):\n",
        "    encoder_self_attention_mask, decoder_self_attention_mask, decoder_cross_attention_mask= create_masks(q, a)\n",
        "    predictions = transformer(q,\n",
        "                              a,\n",
        "                              encoder_self_attention_mask.to(device),\n",
        "                              decoder_self_attention_mask.to(device),\n",
        "                              decoder_cross_attention_mask.to(device),\n",
        "                              enc_start_token=False,\n",
        "                              enc_end_token=False,\n",
        "                              dec_start_token=True,\n",
        "                              dec_end_token=False)\n",
        "    next_token_prob_distribution = predictions[0][word_counter]\n",
        "    next_token_index = torch.argmax(next_token_prob_distribution).item()\n",
        "    next_token = index_to_lang[next_token_index]\n",
        "    a = (a[0] + next_token, )\n",
        "    if next_token == END_TOKEN:\n",
        "      break\n",
        "  return a[0]"
      ],
      "metadata": {
        "id": "yytb3Ja09Vgp"
      },
      "execution_count": null,
      "outputs": []
    }
  ]
}